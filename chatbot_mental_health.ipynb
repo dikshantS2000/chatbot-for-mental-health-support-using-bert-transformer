{
 "cells": [
  {
   "cell_type": "code",
   "execution_count": 1,
   "id": "f9e167ac-1ecf-46d5-bf5d-31cf719c0625",
   "metadata": {},
   "outputs": [
    {
     "name": "stderr",
     "output_type": "stream",
     "text": [
      "c:\\Users\\dipak\\AppData\\Local\\Programs\\Python\\Python39\\lib\\site-packages\\tqdm\\auto.py:21: TqdmWarning: IProgress not found. Please update jupyter and ipywidgets. See https://ipywidgets.readthedocs.io/en/stable/user_install.html\n",
      "  from .autonotebook import tqdm as notebook_tqdm\n"
     ]
    }
   ],
   "source": [
    "from transformers import BertTokenizer, BertForSequenceClassification\n"
   ]
  },
  {
   "cell_type": "code",
   "execution_count": null,
   "id": "5513e2d3-74ed-4cf0-9add-f838197a9f44",
   "metadata": {},
   "outputs": [],
   "source": [
    "import os\n",
    "import json\n",
    "import re\n",
    "import numpy as np\n",
    "import pandas as pd\n",
    "import torch\n",
    "from torch.utils.data import DataLoader, Dataset, random_split\n",
    "from transformers import BertTokenizer, BertForSequenceClassification\n",
    "from torch.optim import AdamW\n",
    "from sklearn.preprocessing import LabelEncoder\n",
    "import warnings\n",
    "warnings.filterwarnings(\"ignore\")"
   ]
  },
  {
   "cell_type": "code",
   "execution_count": null,
   "id": "92afdf18-1ab9-427f-8756-385e1a25b223",
   "metadata": {},
   "outputs": [],
   "source": [
    "with open('./intents_updated.json', 'r') as f:\n",
    "    data = json.load(f)\n",
    "\n",
    "df = pd.DataFrame(data['intents'])\n",
    "\n",
    "# Prepare data dictionary\n",
    "dic = {\"tag\": [], \"patterns\": [], \"responses\": []}\n",
    "for i in range(len(df)):\n",
    "    ptrns = df[df.index == i]['patterns'].values[0]\n",
    "    rspns = df[df.index == i]['responses'].values[0]\n",
    "    tag = df[df.index == i]['tag'].values[0]\n",
    "    for j in range(len(ptrns)):\n",
    "        dic['tag'].append(tag)\n",
    "        dic['patterns'].append(ptrns[j])\n",
    "        dic['responses'].append(rspns)\n",
    "\n",
    "df = pd.DataFrame.from_dict(dic)\n",
    "\n",
    "# Preprocessing function\n",
    "def preprocess_text(s):\n",
    "    s = re.sub('[^a-zA-Z\\']', ' ', s).lower().strip()\n",
    "    return s\n",
    "\n",
    "df['patterns'] = df['patterns'].apply(preprocess_text)\n",
    "df['tag'] = df['tag'].apply(preprocess_text)\n"
   ]
  },
  {
   "cell_type": "code",
   "execution_count": null,
   "id": "75ed9e09-6d78-401a-a30c-b0bee932178d",
   "metadata": {},
   "outputs": [
    {
     "name": "stderr",
     "output_type": "stream",
     "text": [
      "Truncation was not explicitly activated but `max_length` is provided a specific value, please use `truncation=True` to explicitly truncate examples to max length. Defaulting to 'longest_first' truncation strategy. If you encode pairs of sequences (GLUE-style) with the tokenizer you can select this strategy more precisely by providing a specific strategy to `truncation`.\n"
     ]
    }
   ],
   "source": [
    "# Encoding labels\n",
    "label_encoder = LabelEncoder()\n",
    "y_encoded = label_encoder.fit_transform(df['tag'])\n",
    "num_labels = len(np.unique(y_encoded))\n",
    "\n",
    "# Tokenization\n",
    "tokenizer = BertTokenizer.from_pretrained('bert-base-uncased')\n",
    "max_len = 128\n",
    "\n",
    "def encode_texts(texts, max_len):\n",
    "    input_ids = []\n",
    "    attention_masks = []\n",
    "    for text in texts:\n",
    "        encoded_dict = tokenizer.encode_plus(\n",
    "            text, add_special_tokens=True, max_length=max_len, \n",
    "            pad_to_max_length=True, return_attention_mask=True, return_tensors='pt')\n",
    "        input_ids.append(encoded_dict['input_ids'])\n",
    "        attention_masks.append(encoded_dict['attention_mask'])\n",
    "    return torch.cat(input_ids, dim=0), torch.cat(attention_masks, dim=0)\n",
    "\n",
    "input_ids, attention_masks = encode_texts(df['patterns'], max_len)\n",
    "labels = torch.tensor(y_encoded)\n",
    "\n",
    "dataset = torch.utils.data.TensorDataset(input_ids, attention_masks, labels)\n",
    "train_size = int(0.9 * len(dataset))\n",
    "val_size = len(dataset) - train_size\n",
    "train_dataset, val_dataset = random_split(dataset, [train_size, val_size])\n",
    "\n",
    "train_dataloader = DataLoader(train_dataset, shuffle=True, batch_size=16)\n",
    "val_dataloader = DataLoader(val_dataset, batch_size=16)\n"
   ]
  },
  {
   "cell_type": "code",
   "execution_count": null,
   "id": "a8df2af6-d72f-460a-a7a9-5edc7318e138",
   "metadata": {},
   "outputs": [
    {
     "name": "stderr",
     "output_type": "stream",
     "text": [
      "Some weights of BertForSequenceClassification were not initialized from the model checkpoint at bert-base-uncased and are newly initialized: ['classifier.bias', 'classifier.weight']\n",
      "You should probably TRAIN this model on a down-stream task to be able to use it for predictions and inference.\n"
     ]
    },
    {
     "name": "stdout",
     "output_type": "stream",
     "text": [
      "Epoch 1, Average Training Loss: 3.83\n",
      "Epoch 2, Average Training Loss: 3.61\n",
      "Epoch 3, Average Training Loss: 3.40\n",
      "Epoch 4, Average Training Loss: 3.13\n",
      "Epoch 5, Average Training Loss: 2.96\n",
      "Epoch 6, Average Training Loss: 2.75\n",
      "Epoch 7, Average Training Loss: 2.58\n",
      "Epoch 8, Average Training Loss: 2.44\n"
     ]
    }
   ],
   "source": [
    "\n",
    "# Model and Optimization\n",
    "model = BertForSequenceClassification.from_pretrained('bert-base-uncased', num_labels=num_labels)\n",
    "device = torch.device(\"cuda\" if torch.cuda.is_available() else \"cpu\")\n",
    "model.to(device)\n",
    "optimizer = AdamW(model.parameters(), lr=2e-5)\n",
    "\n",
    "# Training Loop with Accuracy\n",
    "epochs = 30\n",
    "for epoch in range(epochs):\n",
    "    model.train()\n",
    "    total_train_loss = 0\n",
    "    correct = 0\n",
    "    total = 0\n",
    "    \n",
    "    for batch in train_dataloader:\n",
    "        b_input_ids, b_input_mask, b_labels = tuple(t.to(device) for t in batch)\n",
    "        b_labels = b_labels.long()\n",
    "        model.zero_grad()\n",
    "        outputs = model(b_input_ids, token_type_ids=None, attention_mask=b_input_mask, labels=b_labels)\n",
    "        loss = outputs.loss\n",
    "        logits = outputs.logits\n",
    "        loss.backward()\n",
    "        optimizer.step()\n",
    "        total_train_loss += loss.item()\n",
    "\n",
    "        preds = torch.argmax(logits, dim=1)\n",
    "        correct += (preds == b_labels).sum().item()\n",
    "        total += b_labels.size(0)\n",
    "\n",
    "    avg_loss = total_train_loss / len(train_dataloader)\n",
    "    accuracy = 100 * correct / total\n",
    "    print(f\"Epoch {epoch+1}, Loss: {avg_loss:.2f}, Accuracy: {accuracy:.2f}%\")\n",
    "\n",
    "# Prediction Function with Confidence Score\n",
    "def predict_intent(text):\n",
    "    encoded_dict = tokenizer.encode_plus(\n",
    "        text, add_special_tokens=True, max_length=max_len,\n",
    "        pad_to_max_length=True, return_attention_mask=True, return_tensors='pt')\n",
    "    input_ids = encoded_dict['input_ids'].to(device)\n",
    "    attention_mask = encoded_dict['attention_mask'].to(device)\n",
    "\n",
    "    with torch.no_grad():\n",
    "        outputs = model(input_ids, token_type_ids=None, attention_mask=attention_mask)\n",
    "    \n",
    "    logits = outputs.logits.cpu().numpy()\n",
    "    probs = np.exp(logits) / np.exp(logits).sum(axis=1, keepdims=True)\n",
    "    confidence = np.max(probs)\n",
    "    predicted_label_idx = np.argmax(logits, axis=1).flatten()\n",
    "    predicted_label = label_encoder.inverse_transform(predicted_label_idx)[0]\n",
    "    \n",
    "    return predicted_label, confidence\n",
    "\n",
    "# Response Selection\n",
    "import random\n",
    "def get_response(intent):\n",
    "    possible_responses = df[df['tag'] == intent]['responses'].values[0]\n",
    "    if isinstance(possible_responses, str):\n",
    "        possible_responses = [possible_responses]\n",
    "    if not possible_responses:\n",
    "        return \"I'm here for you, but I'm not sure I understood that. Can you share a bit more?\"\n",
    "    return random.choice(possible_responses)\n"
   ]
  },
  {
   "cell_type": "code",
   "execution_count": null,
   "id": "e189d478-4270-4a3c-9d69-84c858aef107",
   "metadata": {},
   "outputs": [],
   "source": [
    "# Chatbot Loop with Debugging\n",
    "print(\"Chatbot is ready! Type 'exit' to stop.\")\n",
    "while True:\n",
    "    user_input = input(\"You: \")\n",
    "    if user_input.lower() == 'exit':\n",
    "        print(\"Chatbot: Goodbye!\")\n",
    "        break\n",
    "\n",
    "    intent, confidence = predict_intent(user_input)  # Now returns both intent & confidence\n",
    "\n",
    "    if confidence < 0.1:\n",
    "        response = \"I'm not completely sure what you mean. Could you rephrase?\"\n",
    "    else:\n",
    "        response = get_response(intent)\n",
    "\n",
    "    print(f\"Chatbot: {response}\")"
   ]
  },
  {
   "cell_type": "code",
   "execution_count": null,
   "id": "5341f9e1-44f5-4eef-b3c1-be5f96de3351",
   "metadata": {},
   "outputs": [],
   "source": []
  },
  {
   "cell_type": "code",
   "execution_count": null,
   "id": "15ed5f0f-9465-4ff5-a13b-816a8cb2a1ca",
   "metadata": {},
   "outputs": [],
   "source": []
  },
  {
   "cell_type": "code",
   "execution_count": null,
   "id": "a9daab23-2159-464a-9808-26689000167c",
   "metadata": {},
   "outputs": [],
   "source": []
  }
 ],
 "metadata": {
  "kernelspec": {
   "display_name": "Python 3 (ipykernel)",
   "language": "python",
   "name": "python3"
  },
  "language_info": {
   "codemirror_mode": {
    "name": "ipython",
    "version": 3
   },
   "file_extension": ".py",
   "mimetype": "text/x-python",
   "name": "python",
   "nbconvert_exporter": "python",
   "pygments_lexer": "ipython3",
   "version": "3.9.1"
  }
 },
 "nbformat": 4,
 "nbformat_minor": 5
}
